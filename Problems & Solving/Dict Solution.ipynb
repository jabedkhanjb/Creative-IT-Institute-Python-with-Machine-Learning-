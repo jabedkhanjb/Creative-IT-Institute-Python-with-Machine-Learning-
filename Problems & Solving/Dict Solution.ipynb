{
 "cells": [
  {
   "cell_type": "markdown",
   "id": "79035ab1",
   "metadata": {},
   "source": [
    "## Mahfuz Islam Khan Jabed\n",
    "mahfuzislam1410@gmail.com\n",
    "\n",
    "www.linkedin.com/in/jabedkhanjb\n",
    "\n",
    "www.github.com/jabedkhanjb\n",
    "\n",
    "### Creative IT Institute\n",
    "#### ES PML 2305"
   ]
  },
  {
   "cell_type": "markdown",
   "id": "82e44bb2",
   "metadata": {},
   "source": [
    "### 1. Write a Python script to sort (ascending and descending) a dictionary by value."
   ]
  },
  {
   "cell_type": "code",
   "execution_count": 4,
   "id": "bf15f4ea",
   "metadata": {},
   "outputs": [
    {
     "name": "stdout",
     "output_type": "stream",
     "text": [
      "{1: 2, 3: 4, 4: 3, 2: 1, 0: 0}\n"
     ]
    }
   ],
   "source": [
    "import operator\n",
    "a = {1: 2, 3: 4, 4: 3, 2: 1, 0: 0}\n",
    "print(a)"
   ]
  },
  {
   "cell_type": "code",
   "execution_count": 5,
   "id": "823a645a",
   "metadata": {},
   "outputs": [],
   "source": [
    "sorting = sorted(a.items(), key=operator.itemgetter(1))"
   ]
  },
  {
   "cell_type": "code",
   "execution_count": 6,
   "id": "10219038",
   "metadata": {},
   "outputs": [
    {
     "name": "stdout",
     "output_type": "stream",
     "text": [
      "Ascending Order:  [(0, 0), (2, 1), (1, 2), (4, 3), (3, 4)]\n"
     ]
    }
   ],
   "source": [
    "print(\"Ascending Order: \", sorting)"
   ]
  },
  {
   "cell_type": "code",
   "execution_count": 7,
   "id": "79d3b203",
   "metadata": {},
   "outputs": [],
   "source": [
    "sorting = dict( sorted(a.items(), key=operator.itemgetter(1), reverse=True))"
   ]
  },
  {
   "cell_type": "code",
   "execution_count": 8,
   "id": "f385ce9d",
   "metadata": {},
   "outputs": [
    {
     "name": "stdout",
     "output_type": "stream",
     "text": [
      "Descending Order:  {3: 4, 4: 3, 1: 2, 2: 1, 0: 0}\n"
     ]
    }
   ],
   "source": [
    "print(\"Descending Order: \", sorting)"
   ]
  },
  {
   "cell_type": "markdown",
   "id": "b6489ad9",
   "metadata": {},
   "source": [
    "### 2. Write a Python script to add a key to a dictionary."
   ]
  },
  {
   "cell_type": "code",
   "execution_count": 9,
   "id": "836eddd7",
   "metadata": {},
   "outputs": [
    {
     "name": "stdout",
     "output_type": "stream",
     "text": [
      "Creating a Dictionary\n"
     ]
    }
   ],
   "source": [
    "print(\"Creating a Dictionary\")"
   ]
  },
  {
   "cell_type": "code",
   "execution_count": 10,
   "id": "38453bc2",
   "metadata": {},
   "outputs": [
    {
     "name": "stdout",
     "output_type": "stream",
     "text": [
      "{0: 10, 1: 20}\n"
     ]
    }
   ],
   "source": [
    "d = {0:10, 1:20}\n",
    "print(d)"
   ]
  },
  {
   "cell_type": "code",
   "execution_count": 12,
   "id": "d48cdcbe",
   "metadata": {},
   "outputs": [],
   "source": [
    "d.update({2:30, 4:40})"
   ]
  },
  {
   "cell_type": "code",
   "execution_count": 13,
   "id": "0ff57bf6",
   "metadata": {},
   "outputs": [
    {
     "name": "stdout",
     "output_type": "stream",
     "text": [
      "{0: 10, 1: 20, 2: 30, 4: 40}\n"
     ]
    }
   ],
   "source": [
    "print(d)"
   ]
  },
  {
   "cell_type": "markdown",
   "id": "4b758a0d",
   "metadata": {},
   "source": [
    "### 3. Write a Python script to concatenate following dictionaries to create a new one."
   ]
  },
  {
   "cell_type": "code",
   "execution_count": 21,
   "id": "59e5c620",
   "metadata": {},
   "outputs": [
    {
     "name": "stdout",
     "output_type": "stream",
     "text": [
      "Sample Dictionary\n",
      "\n",
      " {1: 10, 2: 20} \n",
      " {3: 30, 4: 40} \n",
      " {5: 50, 6: 60}\n"
     ]
    }
   ],
   "source": [
    "print(\"Sample Dictionary\")\n",
    "dic1={1:10, 2:20}\n",
    "dic2={3:30, 4:40}\n",
    "dic3={5:50,6:60}\n",
    "print(\"\\n\",dic1,\"\\n\",dic2,\"\\n\",dic3)"
   ]
  },
  {
   "cell_type": "code",
   "execution_count": 22,
   "id": "724ebe55",
   "metadata": {},
   "outputs": [
    {
     "name": "stdout",
     "output_type": "stream",
     "text": [
      "{1: 10, 2: 20} {3: 30, 4: 40} {3: 30, 4: 40}\n"
     ]
    }
   ],
   "source": [
    "print(dic1, dic2, dic2)"
   ]
  },
  {
   "cell_type": "code",
   "execution_count": 23,
   "id": "f90464e5",
   "metadata": {},
   "outputs": [],
   "source": [
    "dic4 = {}"
   ]
  },
  {
   "cell_type": "code",
   "execution_count": 28,
   "id": "2438650b",
   "metadata": {},
   "outputs": [],
   "source": [
    "for i in (dic1, dic2, dic3):\n",
    "    dic4.update(i)"
   ]
  },
  {
   "cell_type": "code",
   "execution_count": 32,
   "id": "83181365",
   "metadata": {},
   "outputs": [
    {
     "name": "stdout",
     "output_type": "stream",
     "text": [
      "{1: 10, 2: 20, 3: 30, 4: 40, 5: 50, 6: 60}\n"
     ]
    }
   ],
   "source": [
    "print(dic4)"
   ]
  },
  {
   "cell_type": "markdown",
   "id": "16d78b36",
   "metadata": {},
   "source": [
    "### 4. Write a Python script to check whether a given key already exists in a dictionary."
   ]
  },
  {
   "cell_type": "code",
   "execution_count": 33,
   "id": "54ecdbe4",
   "metadata": {},
   "outputs": [],
   "source": [
    "d = {1: 10, 2: 20, 3: 30, 4: 40, 5: 50, 6: 60}"
   ]
  },
  {
   "cell_type": "code",
   "execution_count": 37,
   "id": "8ebcf9eb",
   "metadata": {},
   "outputs": [
    {
     "name": "stdout",
     "output_type": "stream",
     "text": [
      "Value Exist\n"
     ]
    }
   ],
   "source": [
    "def check(number):\n",
    "    if number in d:\n",
    "        print(\"Value Exist\")\n",
    "    else:\n",
    "        print(\"Value is not Exist\")\n",
    "        \n",
    "check(5)"
   ]
  },
  {
   "cell_type": "code",
   "execution_count": 38,
   "id": "2c423d47",
   "metadata": {},
   "outputs": [
    {
     "name": "stdout",
     "output_type": "stream",
     "text": [
      "Value is not Exist\n"
     ]
    }
   ],
   "source": [
    "check (12)"
   ]
  },
  {
   "cell_type": "markdown",
   "id": "bd54c117",
   "metadata": {},
   "source": [
    "### 5. Write a Python program to iterate over dictionaries using for loops."
   ]
  },
  {
   "cell_type": "code",
   "execution_count": 39,
   "id": "066f2c2b",
   "metadata": {},
   "outputs": [],
   "source": [
    "d = {'x': 10, 'y': 20, 'z': 30} "
   ]
  },
  {
   "cell_type": "code",
   "execution_count": 40,
   "id": "6e9bb84b",
   "metadata": {},
   "outputs": [
    {
     "name": "stdout",
     "output_type": "stream",
     "text": [
      "{'x': 10, 'y': 20, 'z': 30}\n"
     ]
    }
   ],
   "source": [
    "print(d)"
   ]
  },
  {
   "cell_type": "code",
   "execution_count": 42,
   "id": "0f5427ee",
   "metadata": {},
   "outputs": [
    {
     "name": "stdout",
     "output_type": "stream",
     "text": [
      "x ~ 10\n",
      "y ~ 20\n",
      "z ~ 30\n"
     ]
    }
   ],
   "source": [
    "for key, value in d.items():\n",
    "    print(key,\"~\",value)"
   ]
  },
  {
   "cell_type": "markdown",
   "id": "23aed42b",
   "metadata": {},
   "source": [
    "### 6. Write a Python script to generate and print a dictionary that contains a number(between 1 and n) in the form (x, x*x)."
   ]
  },
  {
   "cell_type": "code",
   "execution_count": 69,
   "id": "906d24e7",
   "metadata": {},
   "outputs": [
    {
     "name": "stdout",
     "output_type": "stream",
     "text": [
      "Enter a number: 12\n"
     ]
    }
   ],
   "source": [
    "n = int(input(\"Enter a number: \"))"
   ]
  },
  {
   "cell_type": "code",
   "execution_count": 70,
   "id": "e02cec9e",
   "metadata": {},
   "outputs": [],
   "source": [
    "dictionary = dict()"
   ]
  },
  {
   "cell_type": "code",
   "execution_count": 71,
   "id": "3fd1ae4f",
   "metadata": {},
   "outputs": [],
   "source": [
    "for i in range(1, n+1):\n",
    "    dictionary[i] = i*i"
   ]
  },
  {
   "cell_type": "code",
   "execution_count": 72,
   "id": "ce99ed15",
   "metadata": {},
   "outputs": [
    {
     "name": "stdout",
     "output_type": "stream",
     "text": [
      "{1: 1, 2: 4, 3: 9, 4: 16, 5: 25, 6: 36, 7: 49, 8: 64, 9: 81, 10: 100, 11: 121, 12: 144}\n"
     ]
    }
   ],
   "source": [
    "print(dictionary)"
   ]
  },
  {
   "cell_type": "markdown",
   "id": "4694e9d7",
   "metadata": {},
   "source": [
    "### 7. Write a Python script to print a dictionary where the keys are numbers between 1 and 15 (both included) and the values are square of keys."
   ]
  },
  {
   "cell_type": "code",
   "execution_count": 75,
   "id": "3dc0e6b4",
   "metadata": {},
   "outputs": [
    {
     "name": "stdout",
     "output_type": "stream",
     "text": [
      "{1: 1, 2: 4, 3: 9, 4: 16, 5: 25, 6: 36, 7: 49, 8: 64, 9: 81, 10: 100, 11: 121, 12: 144, 13: 169, 14: 196, 15: 225}\n"
     ]
    }
   ],
   "source": [
    "d = dict()\n",
    "\n",
    "for i in range(1, 16):\n",
    "    d[i] = i**2\n",
    "\n",
    "print(d)"
   ]
  },
  {
   "cell_type": "markdown",
   "id": "a9c99b17",
   "metadata": {},
   "source": [
    "### 8. Write a Python script to merge two Python dictionaries."
   ]
  },
  {
   "cell_type": "code",
   "execution_count": 77,
   "id": "ae35f77a",
   "metadata": {},
   "outputs": [
    {
     "name": "stdout",
     "output_type": "stream",
     "text": [
      "{'a': 10, 'b': 20, 'c': 30, 'd': 40}\n"
     ]
    }
   ],
   "source": [
    "d1 = {\"a\": 10, \"b\": 20}\n",
    "d2 = {\"c\": 30, \"d\": 40}\n",
    "\n",
    "d = d1.copy()\n",
    "d.update(d2)\n",
    "\n",
    "print(d)"
   ]
  },
  {
   "cell_type": "markdown",
   "id": "db47a3e6",
   "metadata": {},
   "source": [
    "### 9. Write a Python program to iterate over dictionaries using for loops."
   ]
  },
  {
   "cell_type": "code",
   "execution_count": 78,
   "id": "6629f85a",
   "metadata": {},
   "outputs": [],
   "source": [
    "d = {'Red': 1, 'Green': 2, 'Blue': 3}"
   ]
  },
  {
   "cell_type": "code",
   "execution_count": 79,
   "id": "f4f645c7",
   "metadata": {},
   "outputs": [
    {
     "name": "stdout",
     "output_type": "stream",
     "text": [
      "Red code is 1\n",
      "Green code is 2\n",
      "Blue code is 3\n"
     ]
    }
   ],
   "source": [
    "for color, number in d.items():\n",
    "    print(color, \"code is\", d[color])"
   ]
  },
  {
   "cell_type": "markdown",
   "id": "6331da76",
   "metadata": {},
   "source": [
    "### 10. Write a Python program to sum all the items in a dictionary."
   ]
  },
  {
   "cell_type": "code",
   "execution_count": 81,
   "id": "e096d1c9",
   "metadata": {},
   "outputs": [],
   "source": [
    "my_dict = {\"a\": 14, \"b\": -4, \"c\": 14}"
   ]
  },
  {
   "cell_type": "code",
   "execution_count": 83,
   "id": "0433371a",
   "metadata": {},
   "outputs": [
    {
     "data": {
      "text/plain": [
       "{'a': 14, 'b': -4, 'c': 14}"
      ]
     },
     "execution_count": 83,
     "metadata": {},
     "output_type": "execute_result"
    }
   ],
   "source": [
    "my_dict"
   ]
  },
  {
   "cell_type": "code",
   "execution_count": 85,
   "id": "ad99ea6e",
   "metadata": {},
   "outputs": [],
   "source": [
    "result = sum(my_dict.values())"
   ]
  },
  {
   "cell_type": "code",
   "execution_count": 87,
   "id": "9afd7c76",
   "metadata": {},
   "outputs": [
    {
     "name": "stdout",
     "output_type": "stream",
     "text": [
      "Your Birthday Date 24 February\n"
     ]
    }
   ],
   "source": [
    "print(f\"Your Birthday Date {result} February\")"
   ]
  },
  {
   "cell_type": "markdown",
   "id": "fff1f5a6",
   "metadata": {},
   "source": [
    "### 11. Write a Python program to multiply all the items in a dictionary."
   ]
  },
  {
   "cell_type": "code",
   "execution_count": 116,
   "id": "5198987d",
   "metadata": {},
   "outputs": [],
   "source": [
    "my_dict = {\"a\": 2, \"b\": -4, \"c\": 3}"
   ]
  },
  {
   "cell_type": "code",
   "execution_count": 117,
   "id": "fee2eb1a",
   "metadata": {},
   "outputs": [],
   "source": [
    "number = 1\n",
    "for key in my_dict:\n",
    "    number = number * my_dict[key]"
   ]
  },
  {
   "cell_type": "code",
   "execution_count": 119,
   "id": "e36f19b0",
   "metadata": {},
   "outputs": [
    {
     "name": "stdout",
     "output_type": "stream",
     "text": [
      "Your Birthday Date -24 February\n"
     ]
    }
   ],
   "source": [
    "print(f\"Your Birthday Date {number} February\")"
   ]
  },
  {
   "cell_type": "markdown",
   "id": "cfd5315a",
   "metadata": {},
   "source": [
    "### 12. Write a Python program to remove a key from a dictionary."
   ]
  },
  {
   "cell_type": "code",
   "execution_count": 132,
   "id": "91149019",
   "metadata": {},
   "outputs": [],
   "source": [
    "# lets create a loop dict\n",
    "loop_dict = {}\n",
    "for i in range (1, 27):\n",
    "    key = chr(ord(\"a\") + i - 1)\n",
    "    loop_dict[key] = i"
   ]
  },
  {
   "cell_type": "code",
   "execution_count": 133,
   "id": "ffd2a5dc",
   "metadata": {},
   "outputs": [
    {
     "name": "stdout",
     "output_type": "stream",
     "text": [
      "{'a': 1, 'b': 2, 'c': 3, 'd': 4, 'e': 5, 'f': 6, 'g': 7, 'h': 8, 'i': 9, 'j': 10, 'k': 11, 'l': 12, 'm': 13, 'n': 14, 'o': 15, 'p': 16, 'q': 17, 'r': 18, 's': 19, 't': 20, 'u': 21, 'v': 22, 'w': 23, 'x': 24, 'y': 25, 'z': 26}\n"
     ]
    }
   ],
   "source": [
    "print(loop_dict)"
   ]
  },
  {
   "cell_type": "code",
   "execution_count": 134,
   "id": "7cb39f54",
   "metadata": {},
   "outputs": [
    {
     "data": {
      "text/plain": [
       "{'a': 1,\n",
       " 'b': 2,\n",
       " 'c': 3,\n",
       " 'd': 4,\n",
       " 'e': 5,\n",
       " 'f': 6,\n",
       " 'g': 7,\n",
       " 'h': 8,\n",
       " 'i': 9,\n",
       " 'j': 10,\n",
       " 'k': 11,\n",
       " 'l': 12,\n",
       " 'm': 13,\n",
       " 'n': 14,\n",
       " 'o': 15,\n",
       " 'p': 16,\n",
       " 'q': 17,\n",
       " 'r': 18,\n",
       " 's': 19,\n",
       " 't': 20,\n",
       " 'u': 21,\n",
       " 'v': 22,\n",
       " 'w': 23,\n",
       " 'x': 24,\n",
       " 'y': 25,\n",
       " 'z': 26}"
      ]
     },
     "execution_count": 134,
     "metadata": {},
     "output_type": "execute_result"
    }
   ],
   "source": [
    "loop_dict"
   ]
  },
  {
   "cell_type": "code",
   "execution_count": 135,
   "id": "085bc929",
   "metadata": {},
   "outputs": [],
   "source": [
    "if 'x'in loop_dict:\n",
    "    del loop_dict['x']"
   ]
  },
  {
   "cell_type": "code",
   "execution_count": 136,
   "id": "36289dd0",
   "metadata": {},
   "outputs": [],
   "source": [
    "if 'y'in loop_dict:\n",
    "    del loop_dict['y']"
   ]
  },
  {
   "cell_type": "code",
   "execution_count": 137,
   "id": "99cb3300",
   "metadata": {},
   "outputs": [],
   "source": [
    "if 'z'in loop_dict:\n",
    "    del loop_dict['z']"
   ]
  },
  {
   "cell_type": "code",
   "execution_count": 138,
   "id": "3325b0a5",
   "metadata": {},
   "outputs": [
    {
     "name": "stdout",
     "output_type": "stream",
     "text": [
      "{'a': 1, 'b': 2, 'c': 3, 'd': 4, 'e': 5, 'f': 6, 'g': 7, 'h': 8, 'i': 9, 'j': 10, 'k': 11, 'l': 12, 'm': 13, 'n': 14, 'o': 15, 'p': 16, 'q': 17, 'r': 18, 's': 19, 't': 20, 'u': 21, 'v': 22, 'w': 23}\n"
     ]
    }
   ],
   "source": [
    "print(loop_dict)"
   ]
  },
  {
   "cell_type": "markdown",
   "id": "cef0e764",
   "metadata": {},
   "source": [
    "### 13. Write a Python program to map two lists into a dictionary."
   ]
  },
  {
   "cell_type": "code",
   "execution_count": 141,
   "id": "6e2b3b1b",
   "metadata": {},
   "outputs": [],
   "source": [
    "# create two lists\n",
    "name=['Jabed', 'Renu', 'Kona', 'Tanha', 'Shishir', 'Rafsan', 'Ayaan', 'Mehrima']\n",
    "age=['22', '19', '17', '14', '6', '5', '5', '2']"
   ]
  },
  {
   "cell_type": "code",
   "execution_count": 142,
   "id": "fb97b642",
   "metadata": {},
   "outputs": [],
   "source": [
    "mapping = dict(zip(name, age))"
   ]
  },
  {
   "cell_type": "code",
   "execution_count": 143,
   "id": "a357643b",
   "metadata": {},
   "outputs": [
    {
     "name": "stdout",
     "output_type": "stream",
     "text": [
      "{'Jabed': '22', 'Renu': '19', 'Kona': '17', 'Tanha': '14', 'Shishir': '6', 'Rafsan': '5', 'Ayaan': '5', 'Mehrima': '2'}\n"
     ]
    }
   ],
   "source": [
    "print(mapping)"
   ]
  },
  {
   "cell_type": "markdown",
   "id": "c40ebcf1",
   "metadata": {},
   "source": [
    "### 14. Write a Python program to sort a dictionary by key."
   ]
  },
  {
   "cell_type": "code",
   "execution_count": 144,
   "id": "363d9057",
   "metadata": {},
   "outputs": [
    {
     "name": "stdout",
     "output_type": "stream",
     "text": [
      "black: #000000\n",
      "green: #008000\n",
      "red: #FF0000\n",
      "white: #FFFFFF\n"
     ]
    }
   ],
   "source": [
    "color_dict = {\n",
    "    'red': '#FF0000',\n",
    "    'green': '#008000',\n",
    "    'black': '#000000',\n",
    "    'white': '#FFFFFF'\n",
    "}\n",
    "\n",
    "for key in sorted(color_dict):\n",
    "        print(\"%s: %s\" % (key, color_dict[key]))"
   ]
  },
  {
   "cell_type": "markdown",
   "id": "3657b78e",
   "metadata": {},
   "source": [
    "### 15. Write a Python program to get the maximum and minimum value in a dictionary."
   ]
  },
  {
   "cell_type": "code",
   "execution_count": 145,
   "id": "0f17849a",
   "metadata": {},
   "outputs": [],
   "source": [
    "my_dict = {'x': 500, 'y': 5874, 'z': 560}"
   ]
  },
  {
   "cell_type": "code",
   "execution_count": 150,
   "id": "5f83d21c",
   "metadata": {},
   "outputs": [],
   "source": [
    "key_max = max(my_dict.keys(), key=(lambda k: my_dict[k]))\n",
    "key_min = min(my_dict.keys(), key=(lambda k: my_dict[k]))"
   ]
  },
  {
   "cell_type": "code",
   "execution_count": 149,
   "id": "cc85210c",
   "metadata": {},
   "outputs": [
    {
     "name": "stdout",
     "output_type": "stream",
     "text": [
      "Maximum Value 5874\n"
     ]
    }
   ],
   "source": [
    "print(\"Maximum Value\", my_dict[key_max])"
   ]
  },
  {
   "cell_type": "code",
   "execution_count": 152,
   "id": "f70e0759",
   "metadata": {},
   "outputs": [
    {
     "name": "stdout",
     "output_type": "stream",
     "text": [
      "Maximum Value 500\n"
     ]
    }
   ],
   "source": [
    "print(\"Maximum Value\", my_dict[key_min])"
   ]
  },
  {
   "cell_type": "markdown",
   "id": "38ac497f",
   "metadata": {},
   "source": [
    "### 16. Write a Python program to get a dictionary from an object's fields."
   ]
  },
  {
   "cell_type": "code",
   "execution_count": 153,
   "id": "8142f960",
   "metadata": {},
   "outputs": [
    {
     "name": "stdout",
     "output_type": "stream",
     "text": [
      "{'x': 'red', 'y': 'Yellow', 'z': 'Green'}\n"
     ]
    }
   ],
   "source": [
    "class dictObj(object):\n",
    "    def __init__(self):\n",
    "        self.x = 'red'\n",
    "        self.y = 'Yellow'\n",
    "        self.z = 'Green'\n",
    "    \n",
    "    def do_nothing(self):\n",
    "        pass\n",
    "\n",
    "test = dictObj()\n",
    "\n",
    "print(test.__dict__) \n"
   ]
  },
  {
   "cell_type": "markdown",
   "id": "fcb93cd9",
   "metadata": {},
   "source": [
    "### 17. Write a Python program to remove duplicates from Dictionary."
   ]
  },
  {
   "cell_type": "code",
   "execution_count": 154,
   "id": "091aef9d",
   "metadata": {},
   "outputs": [],
   "source": [
    "student_data = {\n",
    "    'id1': {\n",
    "        'name': ['Sara'],\n",
    "        'class': ['V'],\n",
    "        'subject_integration': ['english, math, science']\n",
    "    },\n",
    "    'id2': {\n",
    "        'name': ['David'],\n",
    "        'class': ['V'],\n",
    "        'subject_integration': ['english, math, science']\n",
    "    },\n",
    "    'id3': {\n",
    "        'name': ['Sara'],\n",
    "        'class': ['V'],\n",
    "        'subject_integration': ['english, math, science']\n",
    "    },\n",
    "    'id4': {\n",
    "        'name': ['Surya'],\n",
    "        'class': ['V'],\n",
    "        'subject_integration': ['english, math, science']\n",
    "    }\n",
    "}"
   ]
  },
  {
   "cell_type": "code",
   "execution_count": 155,
   "id": "5301145f",
   "metadata": {},
   "outputs": [
    {
     "data": {
      "text/plain": [
       "{'id1': {'name': ['Sara'],\n",
       "  'class': ['V'],\n",
       "  'subject_integration': ['english, math, science']},\n",
       " 'id2': {'name': ['David'],\n",
       "  'class': ['V'],\n",
       "  'subject_integration': ['english, math, science']},\n",
       " 'id3': {'name': ['Sara'],\n",
       "  'class': ['V'],\n",
       "  'subject_integration': ['english, math, science']},\n",
       " 'id4': {'name': ['Surya'],\n",
       "  'class': ['V'],\n",
       "  'subject_integration': ['english, math, science']}}"
      ]
     },
     "execution_count": 155,
     "metadata": {},
     "output_type": "execute_result"
    }
   ],
   "source": [
    "student_data"
   ]
  },
  {
   "cell_type": "code",
   "execution_count": 159,
   "id": "4b846d13",
   "metadata": {},
   "outputs": [],
   "source": [
    "new = student_data.copy()"
   ]
  },
  {
   "cell_type": "code",
   "execution_count": 161,
   "id": "c851b388",
   "metadata": {},
   "outputs": [
    {
     "name": "stdout",
     "output_type": "stream",
     "text": [
      "Same id1 id3\n",
      "{'id2': {'name': ['David'], 'class': ['V'], 'subject_integration': ['english, math, science']}, 'id3': {'name': ['Sara'], 'class': ['V'], 'subject_integration': ['english, math, science']}, 'id4': {'name': ['Surya'], 'class': ['V'], 'subject_integration': ['english, math, science']}}\n",
      "\n",
      "{'id2': {'name': ['David'], 'class': ['V'], 'subject_integration': ['english, math, science']}, 'id3': {'name': ['Sara'], 'class': ['V'], 'subject_integration': ['english, math, science']}, 'id4': {'name': ['Surya'], 'class': ['V'], 'subject_integration': ['english, math, science']}}\n",
      "\n",
      "{'id2': {'name': ['David'], 'class': ['V'], 'subject_integration': ['english, math, science']}, 'id3': {'name': ['Sara'], 'class': ['V'], 'subject_integration': ['english, math, science']}, 'id4': {'name': ['Surya'], 'class': ['V'], 'subject_integration': ['english, math, science']}}\n",
      "\n",
      "{'id2': {'name': ['David'], 'class': ['V'], 'subject_integration': ['english, math, science']}, 'id3': {'name': ['Sara'], 'class': ['V'], 'subject_integration': ['english, math, science']}, 'id4': {'name': ['Surya'], 'class': ['V'], 'subject_integration': ['english, math, science']}}\n",
      "\n"
     ]
    }
   ],
   "source": [
    "list1=[]\n",
    "for i in student_data:\n",
    "    base = student_data[i]\n",
    "    for j in student_data:\n",
    "        if j not in list1:\n",
    "            if i!=j:\n",
    "                if base == student_data[j]:\n",
    "                    print('Same', i, j)\n",
    "                    \n",
    "                    del new[i]\n",
    "                    list1.append(i)\n",
    "    print(new)\n",
    "    print()"
   ]
  },
  {
   "cell_type": "markdown",
   "id": "8814bda0",
   "metadata": {},
   "source": [
    "### 30. Write a Python program to get the top three items in a shop."
   ]
  },
  {
   "cell_type": "code",
   "execution_count": 162,
   "id": "61f27bc9",
   "metadata": {},
   "outputs": [],
   "source": [
    "data = {'item1': 45.50, 'item2':35, 'item3': 41.30, 'item4':55, 'item5': 24}"
   ]
  },
  {
   "cell_type": "code",
   "execution_count": 164,
   "id": "933b8441",
   "metadata": {},
   "outputs": [
    {
     "data": {
      "text/plain": [
       "[24, 35, 41.3, 45.5, 55]"
      ]
     },
     "execution_count": 164,
     "metadata": {},
     "output_type": "execute_result"
    }
   ],
   "source": [
    "sorted(list(data.values()))"
   ]
  },
  {
   "cell_type": "code",
   "execution_count": 166,
   "id": "f157382a",
   "metadata": {},
   "outputs": [
    {
     "name": "stdout",
     "output_type": "stream",
     "text": [
      "item4 55\n",
      "item1 45.5\n",
      "item3 41.3\n"
     ]
    }
   ],
   "source": [
    "c = 0\n",
    "\n",
    "for i in sorted(list(data.values()), reverse = True):\n",
    "    for number in data:\n",
    "        if data[number] == i:\n",
    "            c= c+1\n",
    "            print(number, data[number])\n",
    "            break\n",
    "    if c==3:\n",
    "        break"
   ]
  },
  {
   "cell_type": "markdown",
   "id": "96c5f1a9",
   "metadata": {},
   "source": [
    "### 32. Write a Python program to print a dictionary line by line."
   ]
  },
  {
   "cell_type": "code",
   "execution_count": 168,
   "id": "e99af726",
   "metadata": {},
   "outputs": [],
   "source": [
    "students = {'Aex': {'class': 'V', 'roll_id': 2}, 'Puja': {'class': 'V', 'roll_id': 3}}"
   ]
  },
  {
   "cell_type": "code",
   "execution_count": 174,
   "id": "ca9910d6",
   "metadata": {},
   "outputs": [
    {
     "name": "stdout",
     "output_type": "stream",
     "text": [
      "Aex\n",
      "class V\n",
      "roll_id 2\n",
      "Puja\n",
      "class V\n",
      "roll_id 3\n"
     ]
    }
   ],
   "source": [
    "for names in students:\n",
    "    print(names)\n",
    "    for details in students[names]:\n",
    "        print(details, students[names][details])"
   ]
  },
  {
   "cell_type": "markdown",
   "id": "d0c97d63",
   "metadata": {},
   "source": [
    "### 33. Write a Python program to check multiple keys exists in a dictionary."
   ]
  },
  {
   "cell_type": "code",
   "execution_count": 175,
   "id": "587d3620",
   "metadata": {},
   "outputs": [],
   "source": [
    "student = { 'name': 'Alex', 'class': 'V', 'roll': 2}"
   ]
  },
  {
   "cell_type": "code",
   "execution_count": 181,
   "id": "d11e7825",
   "metadata": {},
   "outputs": [
    {
     "name": "stdout",
     "output_type": "stream",
     "text": [
      "False\n"
     ]
    }
   ],
   "source": [
    "search = ['Alex','class']\n",
    "r = True\n",
    "for i in search:\n",
    "    if i in student:\n",
    "        pass\n",
    "    else:\n",
    "        r = False\n",
    "        break\n",
    "print(r)"
   ]
  },
  {
   "cell_type": "markdown",
   "id": "db4511e0",
   "metadata": {},
   "source": [
    "### 39. Write a Python program to store a given dictionary in a json file."
   ]
  },
  {
   "cell_type": "code",
   "execution_count": 182,
   "id": "b1d44fe9",
   "metadata": {},
   "outputs": [],
   "source": [
    "s = {'students': [{'firstName': 'Nikki', 'lastName': 'Roysden'}, {'firstName': 'Mervin',\n",
    "'lastName': 'Friedland'}, {'firstName': 'Aron ', 'lastName': 'Wilkins'}], 'teachers':\n",
    "[{'firstName': 'Amberly', 'lastName': 'Calico'}, {'firstName': 'Regine', 'lastName':\n",
    "'Agtarap'}]}"
   ]
  },
  {
   "cell_type": "code",
   "execution_count": 183,
   "id": "ba756b3e",
   "metadata": {},
   "outputs": [
    {
     "data": {
      "text/plain": [
       "{'students': [{'firstName': 'Nikki', 'lastName': 'Roysden'},\n",
       "  {'firstName': 'Mervin', 'lastName': 'Friedland'},\n",
       "  {'firstName': 'Aron ', 'lastName': 'Wilkins'}],\n",
       " 'teachers': [{'firstName': 'Amberly', 'lastName': 'Calico'},\n",
       "  {'firstName': 'Regine', 'lastName': 'Agtarap'}]}"
      ]
     },
     "execution_count": 183,
     "metadata": {},
     "output_type": "execute_result"
    }
   ],
   "source": [
    "s"
   ]
  },
  {
   "cell_type": "code",
   "execution_count": 185,
   "id": "80fce902",
   "metadata": {},
   "outputs": [
    {
     "name": "stdout",
     "output_type": "stream",
     "text": [
      "\n",
      "Json file to dictionary:\n"
     ]
    }
   ],
   "source": [
    "import json\n",
    "\n",
    "with open(\"dictionary.json\", \"w\") as f:\n",
    "    json.dump(s, f, indent=4, sort_keys=True)\n",
    "\n",
    "# Print a message indicating the start of the next code section.\n",
    "print(\"\\nJson file to dictionary:\")\n",
    "\n",
    "# Open the \"dictionary\" JSON file and read its contents into the 'data' variable.\n",
    "with open('dictionary.json') as f:\n",
    "    data = json.load(f)"
   ]
  },
  {
   "cell_type": "markdown",
   "id": "d612fc39",
   "metadata": {},
   "source": [
    "#### 40. Write a Python program to create a dictionary of keys x, y, and z where each key has as value a list from 11-20, 21-30, and 31-40 respectively. Access the fifth value of each key from the dictionary."
   ]
  },
  {
   "cell_type": "code",
   "execution_count": 191,
   "id": "e5bd743d",
   "metadata": {},
   "outputs": [],
   "source": [
    "x={'values':list(range(11,20))}\n",
    "y={'values':list(range(21,30))}\n",
    "z={'values':list(range(31,40))}"
   ]
  },
  {
   "cell_type": "code",
   "execution_count": 192,
   "id": "c5a107a6",
   "metadata": {},
   "outputs": [
    {
     "data": {
      "text/plain": [
       "(15, 25, 35)"
      ]
     },
     "execution_count": 192,
     "metadata": {},
     "output_type": "execute_result"
    }
   ],
   "source": [
    "x['values'][4],y['values'][4],z['values'][4]"
   ]
  },
  {
   "cell_type": "code",
   "execution_count": 197,
   "id": "71a1eb55",
   "metadata": {},
   "outputs": [
    {
     "name": "stdout",
     "output_type": "stream",
     "text": [
      "True\n"
     ]
    }
   ],
   "source": [
    "s = {'Jabed': 14, 'Renu': 14, 'Kona': 14}\n",
    "check = 14\n",
    "r = True\n",
    "for i in s:\n",
    "    if s[i]==check:\n",
    "        pass\n",
    "    else:\n",
    "        r=False\n",
    "print(r)"
   ]
  },
  {
   "cell_type": "code",
   "execution_count": null,
   "id": "da8c3934",
   "metadata": {},
   "outputs": [],
   "source": []
  },
  {
   "cell_type": "code",
   "execution_count": null,
   "id": "ef5d8587",
   "metadata": {},
   "outputs": [],
   "source": []
  }
 ],
 "metadata": {
  "kernelspec": {
   "display_name": "Python 3 (ipykernel)",
   "language": "python",
   "name": "python3"
  },
  "language_info": {
   "codemirror_mode": {
    "name": "ipython",
    "version": 3
   },
   "file_extension": ".py",
   "mimetype": "text/x-python",
   "name": "python",
   "nbconvert_exporter": "python",
   "pygments_lexer": "ipython3",
   "version": "3.10.9"
  }
 },
 "nbformat": 4,
 "nbformat_minor": 5
}
