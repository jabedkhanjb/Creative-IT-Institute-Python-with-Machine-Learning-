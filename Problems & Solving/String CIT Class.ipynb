{
 "cells": [
  {
   "cell_type": "code",
   "execution_count": 7,
   "id": "ff419bd4",
   "metadata": {},
   "outputs": [
    {
     "name": "stdout",
     "output_type": "stream",
     "text": [
      "Empty string\n"
     ]
    }
   ],
   "source": [
    "#3\n",
    "\n",
    "s = 'w3resource'\n",
    "s = ''\n",
    "if len(s)<2:\n",
    "    print('Empty string')\n",
    "else:\n",
    "    print(s[:2]+s[-2:])"
   ]
  },
  {
   "cell_type": "code",
   "execution_count": 53,
   "id": "bc5f64d3",
   "metadata": {},
   "outputs": [
    {
     "name": "stdout",
     "output_type": "stream",
     "text": [
      "The lyrics is not poor not good poor!\n",
      "The lyrics is good good\n"
     ]
    }
   ],
   "source": [
    "original= 'The lyrics is not poor not good poor!'\n",
    "new = ''\n",
    "for i in original:\n",
    "    if i==' ':\n",
    "        new = new+i\n",
    "    if 65<ord(i)<91 or 96<ord(i)<122:\n",
    "        new = new+i\n",
    "print(original)\n",
    "       \n",
    "s = new\n",
    "start = 0\n",
    "end = 0\n",
    "for i in s.split():\n",
    "    if i=='not':\n",
    "        c = 1\n",
    "        start = s.index(i)\n",
    "    elif i=='poor':\n",
    "        if c==1:\n",
    "            end = s.index(i)\n",
    "            end = end+4\n",
    "            sub = s[start:end]\n",
    "            s = s.replace(sub,'good')\n",
    "            c = 0\n",
    "print(s)"
   ]
  },
  {
   "cell_type": "code",
   "execution_count": 51,
   "id": "c8946ec2",
   "metadata": {},
   "outputs": [
    {
     "data": {
      "text/plain": [
       "'The lyrics is not'"
      ]
     },
     "execution_count": 51,
     "metadata": {},
     "output_type": "execute_result"
    }
   ],
   "source": [
    "s"
   ]
  },
  {
   "cell_type": "code",
   "execution_count": 36,
   "id": "c081bb1c",
   "metadata": {},
   "outputs": [
    {
     "data": {
      "text/plain": [
       "53"
      ]
     },
     "execution_count": 36,
     "metadata": {},
     "output_type": "execute_result"
    }
   ],
   "source": [
    "ord('5')"
   ]
  },
  {
   "cell_type": "code",
   "execution_count": 59,
   "id": "88a05750",
   "metadata": {},
   "outputs": [
    {
     "data": {
      "text/plain": [
       "'vfrbfd'"
      ]
     },
     "execution_count": 59,
     "metadata": {},
     "output_type": "execute_result"
    }
   ],
   "source": [
    "list1 = ['vfrbfd','dfvgdbgd','fddxcscdscv dfv ']\n",
    "list2 = [len(i) for i in list1]\n",
    "list1[list2.index(min(list2))]"
   ]
  },
  {
   "cell_type": "code",
   "execution_count": 63,
   "id": "1da6f073",
   "metadata": {},
   "outputs": [
    {
     "name": "stdout",
     "output_type": "stream",
     "text": [
      "give seq of words'a','rftgv','fdcv'\n"
     ]
    }
   ],
   "source": [
    "list1 = list(eval(input('give seq of words')))"
   ]
  },
  {
   "cell_type": "code",
   "execution_count": 75,
   "id": "f5eda09e",
   "metadata": {},
   "outputs": [
    {
     "name": "stdout",
     "output_type": "stream",
     "text": [
      "give seq of wordshello hello word 123 z abc t45\n"
     ]
    }
   ],
   "source": [
    "list1 = input('give seq of words').split()"
   ]
  },
  {
   "cell_type": "code",
   "execution_count": 76,
   "id": "3fe060a8",
   "metadata": {},
   "outputs": [
    {
     "data": {
      "text/plain": [
       "['hello', 'hello', 'word', '123', 'z', 'abc', 't45']"
      ]
     },
     "execution_count": 76,
     "metadata": {},
     "output_type": "execute_result"
    }
   ],
   "source": [
    "list1"
   ]
  },
  {
   "cell_type": "code",
   "execution_count": 77,
   "id": "e55cbf11",
   "metadata": {},
   "outputs": [
    {
     "data": {
      "text/plain": [
       "{'123', 'abc', 'hello', 't45', 'word', 'z'}"
      ]
     },
     "execution_count": 77,
     "metadata": {},
     "output_type": "execute_result"
    }
   ],
   "source": [
    "set(list1)"
   ]
  },
  {
   "cell_type": "code",
   "execution_count": 78,
   "id": "b0be38c0",
   "metadata": {},
   "outputs": [
    {
     "name": "stdout",
     "output_type": "stream",
     "text": [
      "https://www.w3resource.com/python-exercises\n",
      "https://www.w3resource.com/python\n"
     ]
    }
   ],
   "source": [
    "str1 = 'https://www.w3resource.com/python-exercises/string'\n",
    "\n",
    "# Use the rsplit() method with '/' as the separator to split the string from the right,\n",
    "# and [0] to get the part before the last '/' character. Then, print the result.\n",
    "print(str1.rsplit('/', 1)[0])  # Output: 'https://www.w3resource.com/python-exercises'\n",
    "\n",
    "# Use the rsplit() method with '-' as the separator to split the string from the right,\n",
    "# and [0] to get the part before the last '-' character. Then, print the result.\n",
    "print(str1.rsplit('-', 1)[0])  # Output: 'https://www.w3resource.com/python' \n",
    "\n"
   ]
  },
  {
   "cell_type": "code",
   "execution_count": 88,
   "id": "f24d05b0",
   "metadata": {},
   "outputs": [
    {
     "data": {
      "text/plain": [
       "'https://www.w3resource.com/python-exercises'"
      ]
     },
     "execution_count": 88,
     "metadata": {},
     "output_type": "execute_result"
    }
   ],
   "source": [
    "str1.rsplit('/', 1)[0]"
   ]
  },
  {
   "cell_type": "code",
   "execution_count": 82,
   "id": "8be2be0d",
   "metadata": {},
   "outputs": [
    {
     "data": {
      "text/plain": [
       "['https:', '', 'www.w3resource.com', 'python-exercises', 'string']"
      ]
     },
     "execution_count": 82,
     "metadata": {},
     "output_type": "execute_result"
    }
   ],
   "source": [
    "str1.split('/')"
   ]
  },
  {
   "cell_type": "code",
   "execution_count": 92,
   "id": "264ae634",
   "metadata": {},
   "outputs": [
    {
     "name": "stdout",
     "output_type": "stream",
     "text": [
      "tbfg\n"
     ]
    }
   ],
   "source": [
    "s = 'gfbt'\n",
    "if len(s)%4==0:\n",
    "    print(s[::-1])"
   ]
  },
  {
   "cell_type": "code",
   "execution_count": 104,
   "id": "8c7cd706",
   "metadata": {},
   "outputs": [
    {
     "name": "stdout",
     "output_type": "stream",
     "text": [
      "\n",
      "\n",
      "Python is a widely used high-level, general-purpose, interpreted,\n",
      "dynamic programming language. Its design philosophy emphasizes\n",
      "code readability, and its syntax allows programmers to express\n",
      "concepts in fewer lines of code than possible in languages such\n",
      "as C++ or Java.\n",
      "\n",
      "\n",
      "\n",
      "Python is a widely used high-level, general-purpose, interpreted,\n",
      "dynamic programming language. Its design philosophy emphasizes\n",
      "code readability, and its syntax allows programmers to express\n",
      "concepts in fewer lines of code than possible in languages such\n",
      "as C++ or Java.\n",
      "\n",
      " Python is a widely used high-level, general-purpose,\n",
      "interpreted, dynamic programming language. Its design\n",
      "philosophy emphasizes code readability, and its syntax\n",
      "allows programmers to express concepts in fewer lines of\n",
      "code than possible in languages such as C++ or Java.\n"
     ]
    }
   ],
   "source": [
    "import textwrap\n",
    "sample_text = '''\n",
    "    Python is a widely used high-level, general-purpose, interpreted,\n",
    "    dynamic programming language. Its design philosophy emphasizes\n",
    "    code readability, and its syntax allows programmers to express\n",
    "    concepts in fewer lines of code than possible in languages such\n",
    "    as C++ or Java.\n",
    "    '''\n",
    "text_without_Indentation = textwrap.dedent(sample_text)\n",
    "print()\n",
    "print(text_without_Indentation )\n",
    "print()\n",
    "sample_text = sample_text.replace('    ','')\n",
    "print(sample_text)\n",
    "print(textwrap.fill(sample_text, width=60))\n"
   ]
  },
  {
   "cell_type": "code",
   "execution_count": 106,
   "id": "907605f0",
   "metadata": {},
   "outputs": [
    {
     "name": "stdout",
     "output_type": "stream",
     "text": [
      "['3', 'c', 'e', 'e', 'o', 'r', 'r', 's', 'u', 'w']\n",
      "['b', 'c', 'i', 'k', 'n', 'o', 'q', 'r', 'u', 'w']\n"
     ]
    }
   ],
   "source": [
    "\n",
    "# Define a function named lexicographic_sort that takes one argument, 's'.\n",
    "def lexicographic_sort(s):\n",
    "    # Use a nested sorting approach:\n",
    "    # 1. First, sort the characters of the string 's' in ascending order.\n",
    "    # 2. Then, sort the sorted characters based on their uppercase representations (case-insensitive).\n",
    "    return sorted(sorted(s), key=str.upper)\n",
    "\n",
    "# Call the lexicographic_sort function with different input strings and print the results.\n",
    "print(lexicographic_sort('w3resource'))  # Output: '3ceeorrsuw'\n",
    "print(lexicographic_sort('quickbrown'))  # Output: 'biknqorwuc' "
   ]
  },
  {
   "cell_type": "code",
   "execution_count": 107,
   "id": "0f2229b1",
   "metadata": {},
   "outputs": [
    {
     "name": "stdout",
     "output_type": "stream",
     "text": [
      "['3', 'c', 'e', 'e', 'o', 'r', 'r', 's', 'u', 'w']\n",
      "['b', 'c', 'i', 'k', 'n', 'o', 'q', 'r', 'u', 'w']\n"
     ]
    }
   ],
   "source": [
    "\n",
    "# Define a function named lexicographic_sort that takes one argument, 's'.\n",
    "def lexicographic_sort(s):\n",
    "    # Use a nested sorting approach:\n",
    "    # 1. First, sort the characters of the string 's' in ascending order.\n",
    "    # 2. Then, sort the sorted characters based on their uppercase representations (case-insensitive).\n",
    "    return sorted(sorted(s), key=str.lower)\n",
    "\n",
    "# Call the lexicographic_sort function with different input strings and print the results.\n",
    "print(lexicographic_sort('w3resource'))  # Output: '3ceeorrsuw'\n",
    "print(lexicographic_sort('quickbrown'))  # Output: 'biknqorwuc' "
   ]
  },
  {
   "cell_type": "code",
   "execution_count": 141,
   "id": "4b854359",
   "metadata": {},
   "outputs": [],
   "source": [
    "# Define a multi-line string 'sample_text' with text content that includes indentation.\n",
    "sample_text = '''\n",
    "    Python is a widely used high-level, general-purpose, interpreted,\n",
    "    dynamic programming language. Its design philosophy emphasizes\n",
    "    code readability, and its syntax allows programmers to express\n",
    "    concepts in fewer lines of code than possible in languages such\n",
    "    as C++ or Java.\n",
    "    '''\n",
    "sample_text = sample_text.strip()\n",
    "sample_text = sample_text.replace('\\n    ','\\n> ')"
   ]
  },
  {
   "cell_type": "code",
   "execution_count": 143,
   "id": "5bb87051",
   "metadata": {},
   "outputs": [
    {
     "name": "stdout",
     "output_type": "stream",
     "text": [
      "> Python is a widely used high-level, general-purpose, interpreted,\n",
      "> dynamic programming language. Its design philosophy emphasizes\n",
      "> code readability, and its syntax allows programmers to express\n",
      "> concepts in fewer lines of code than possible in languages such\n",
      "> as C++ or Java.\n"
     ]
    }
   ],
   "source": [
    "print('> '+sample_text)"
   ]
  },
  {
   "cell_type": "code",
   "execution_count": 140,
   "id": "01eb3f50",
   "metadata": {},
   "outputs": [
    {
     "data": {
      "text/plain": [
       "'Python is a widely used high-level, general-purpose, interpreted,\\n> dynamic programming language. Its design philosophy emphasizes\\n> code readability, and its syntax allows programmers to express\\n> concepts in fewer lines of code than possible in languages such\\n> as C++ or Java.'"
      ]
     },
     "execution_count": 140,
     "metadata": {},
     "output_type": "execute_result"
    }
   ],
   "source": [
    "# if sample_text.strip()[-2]=='\\n':\n",
    "#     sample_text = sample_text[:-2]\n",
    "sample_text"
   ]
  },
  {
   "cell_type": "code",
   "execution_count": 145,
   "id": "da2d3f14",
   "metadata": {},
   "outputs": [
    {
     "data": {
      "text/plain": [
       "3.57"
      ]
     },
     "execution_count": 145,
     "metadata": {},
     "output_type": "execute_result"
    }
   ],
   "source": [
    "n = 3.5678\n",
    "round(n,2)"
   ]
  },
  {
   "cell_type": "code",
   "execution_count": 150,
   "id": "2a24b266",
   "metadata": {},
   "outputs": [
    {
     "data": {
      "text/plain": [
       "'eht kciuq nworb xof'"
      ]
     },
     "execution_count": 150,
     "metadata": {},
     "output_type": "execute_result"
    }
   ],
   "source": [
    "s = 'the quick brown fox'\n",
    "new = ''\n",
    "for  i in s.split():\n",
    "    new = new+' '+i[::-1]\n",
    "new[1:]"
   ]
  },
  {
   "cell_type": "code",
   "execution_count": 151,
   "id": "6170ad96",
   "metadata": {},
   "outputs": [
    {
     "data": {
      "text/plain": [
       "['fox', 'brown', 'quick', 'the']"
      ]
     },
     "execution_count": 151,
     "metadata": {},
     "output_type": "execute_result"
    }
   ],
   "source": [
    "s.split()[::-1]"
   ]
  },
  {
   "cell_type": "code",
   "execution_count": 152,
   "id": "e16db244",
   "metadata": {},
   "outputs": [
    {
     "data": {
      "text/plain": [
       "['xof', 'nworb', 'kciuq', 'eht']"
      ]
     },
     "execution_count": 152,
     "metadata": {},
     "output_type": "execute_result"
    }
   ],
   "source": [
    "s[::-1].split()"
   ]
  },
  {
   "cell_type": "code",
   "execution_count": 158,
   "id": "e44c1a59",
   "metadata": {},
   "outputs": [
    {
     "data": {
      "text/plain": [
       "'HELLO WORLD'"
      ]
     },
     "execution_count": 158,
     "metadata": {},
     "output_type": "execute_result"
    }
   ],
   "source": [
    "s = 'hello world'\n",
    "s.upper()"
   ]
  },
  {
   "cell_type": "code",
   "execution_count": 159,
   "id": "8f0f6531",
   "metadata": {},
   "outputs": [
    {
     "data": {
      "text/plain": [
       "'hello world'"
      ]
     },
     "execution_count": 159,
     "metadata": {},
     "output_type": "execute_result"
    }
   ],
   "source": [
    "s.lower()\n"
   ]
  },
  {
   "cell_type": "code",
   "execution_count": 160,
   "id": "1c2aeece",
   "metadata": {},
   "outputs": [
    {
     "data": {
      "text/plain": [
       "'dlrow olleh'"
      ]
     },
     "execution_count": 160,
     "metadata": {},
     "output_type": "execute_result"
    }
   ],
   "source": [
    "s[::-1]"
   ]
  },
  {
   "cell_type": "code",
   "execution_count": 161,
   "id": "5415501a",
   "metadata": {},
   "outputs": [
    {
     "data": {
      "text/plain": [
       "'Hello World'"
      ]
     },
     "execution_count": 161,
     "metadata": {},
     "output_type": "execute_result"
    }
   ],
   "source": [
    "s.title()"
   ]
  },
  {
   "cell_type": "code",
   "execution_count": 162,
   "id": "4791343b",
   "metadata": {},
   "outputs": [
    {
     "data": {
      "text/plain": [
       "'Hello world'"
      ]
     },
     "execution_count": 162,
     "metadata": {},
     "output_type": "execute_result"
    }
   ],
   "source": [
    "s.capitalize()"
   ]
  },
  {
   "cell_type": "code",
   "execution_count": null,
   "id": "bde18f60",
   "metadata": {},
   "outputs": [],
   "source": []
  },
  {
   "cell_type": "code",
   "execution_count": null,
   "id": "43d14dd7",
   "metadata": {},
   "outputs": [],
   "source": [
    "50. Write a Python program to split a string on the last occurrence of the\n",
    "delimiter. Go to the editor\n",
    "Click me to see the sample solution\n",
    "51. Write a Python program to find the first non-repeating character in given\n",
    "string. Go to the editor\n",
    "\n",
    "50-80\n"
   ]
  }
 ],
 "metadata": {
  "kernelspec": {
   "display_name": "Python 3 (ipykernel)",
   "language": "python",
   "name": "python3"
  },
  "language_info": {
   "codemirror_mode": {
    "name": "ipython",
    "version": 3
   },
   "file_extension": ".py",
   "mimetype": "text/x-python",
   "name": "python",
   "nbconvert_exporter": "python",
   "pygments_lexer": "ipython3",
   "version": "3.10.9"
  }
 },
 "nbformat": 4,
 "nbformat_minor": 5
}
